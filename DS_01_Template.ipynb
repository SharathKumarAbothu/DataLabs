{
  "cells": [
    {
      "cell_type": "markdown",
      "metadata": {
        "id": "view-in-github",
        "colab_type": "text"
      },
      "source": [
        "<a href=\"https://colab.research.google.com/github/SharathKumarAbothu/DataLabs/blob/main/DS_01_Template.ipynb\" target=\"_parent\"><img src=\"https://colab.research.google.com/assets/colab-badge.svg\" alt=\"Open In Colab\"/></a>"
      ]
    },
    {
      "cell_type": "markdown",
      "metadata": {
        "id": "_AK3etbM4Y71"
      },
      "source": [
        "# Internship on Data Science at InfraBIM\n",
        "**DS-01: Assignment - Descriptive Analysis on Interns Past Academic Performance**"
      ]
    },
    {
      "cell_type": "markdown",
      "metadata": {
        "id": "PPF2QqfA4Y7-"
      },
      "source": [
        "Team No.:<br>\n",
        "Reg. No.:4073<br>\n",
        "Name:SHARATH KUMAR ABOTHU<br>\n",
        "Date:07/11/2022"
      ]
    },
    {
      "cell_type": "code",
      "execution_count": 12,
      "metadata": {
        "id": "3Dh21C3cJNzB"
      },
      "outputs": [],
      "source": [
        "# Import Libraries\n",
        "import pandas as pd \n",
        "import matplotlib.pyplot as plt\n"
      ]
    },
    {
      "cell_type": "markdown",
      "metadata": {
        "id": "6MIgCvrpbb7H"
      },
      "source": [
        "**Loading Dataset**"
      ]
    },
    {
      "cell_type": "code",
      "execution_count": 13,
      "metadata": {
        "colab": {
          "base_uri": "https://localhost:8080/"
        },
        "id": "Osm_OWJo4Y8D",
        "outputId": "056fcc71-c618-40c9-cebf-7273a97b595c"
      },
      "outputs": [
        {
          "output_type": "stream",
          "name": "stdout",
          "text": [
            "     StudentNo  DEGREE  INTERMEDIATE   SSC                      INTERNSHIP\n",
            "0         1001    8.10          76.0  92.0                    Data Science\n",
            "1         1002    8.10          76.0  92.0      MEAN Stack Web Development\n",
            "2         1003    7.80          94.6  92.0      MEAN Stack Web Development\n",
            "3         1004    9.03          89.5  89.0                    Data Science\n",
            "4         1005    8.38          87.0  90.0      MEAN Stack Web Development\n",
            "..         ...     ...           ...   ...                             ...\n",
            "292       2188    8.70          94.1  93.0                    Data Science\n",
            "293       2189    8.45          90.0  93.0                    Data Science\n",
            "294       2190    8.40          94.9  98.0                    Data Science\n",
            "295       2191    7.06          90.6  88.0  Cloud Computing Services (AWS)\n",
            "296       2192    7.50          95.5  95.0  Cloud Computing Services (AWS)\n",
            "\n",
            "[297 rows x 5 columns]\n"
          ]
        }
      ],
      "source": [
        "# Load the CSV Data into a DataFrame\n",
        "url = \"https://internships-data.s3.ap-south-1.amazonaws.com/interns+data/Enrollments_28092022.csv\"\n",
        "df = pd.read_csv(url)\n",
        "print(df)"
      ]
    },
    {
      "cell_type": "markdown",
      "metadata": {
        "id": "1MBFT_7Cfrvy"
      },
      "source": [
        "**Q1. Identify Variables and their Types (Quantitative or Qualitative)**"
      ]
    },
    {
      "cell_type": "code",
      "execution_count": 14,
      "metadata": {
        "colab": {
          "base_uri": "https://localhost:8080/"
        },
        "id": "pvTPRlE94Y8G",
        "outputId": "06c0c7a5-cf14-420e-d292-c7e3f6fcff94"
      },
      "outputs": [
        {
          "output_type": "execute_result",
          "data": {
            "text/plain": [
              "StudentNo         int64\n",
              "DEGREE          float64\n",
              "INTERMEDIATE    float64\n",
              "SSC             float64\n",
              "INTERNSHIP       object\n",
              "dtype: object"
            ]
          },
          "metadata": {},
          "execution_count": 14
        }
      ],
      "source": [
        "df.dtypes"
      ]
    },
    {
      "cell_type": "markdown",
      "metadata": {
        "id": "_5zsloiM4Y8H"
      },
      "source": [
        "**<font color='blue'>Q1. Answer </font>**\n",
        "<br>\n",
        "<b>Categorical Data:</b><br>\n",
        "<b>Numerical Data:</b>"
      ]
    },
    {
      "cell_type": "markdown",
      "metadata": {
        "id": "-_VkJewZ4Y8J"
      },
      "source": [
        "**Q2. Size of Data (No. of Rows and Columns)**"
      ]
    },
    {
      "cell_type": "code",
      "execution_count": 15,
      "metadata": {
        "colab": {
          "base_uri": "https://localhost:8080/"
        },
        "id": "UISXGXNB4Y8K",
        "outputId": "121a2f35-5013-4023-dc5e-e5df1d96392a"
      },
      "outputs": [
        {
          "output_type": "execute_result",
          "data": {
            "text/plain": [
              "(297, 5)"
            ]
          },
          "metadata": {},
          "execution_count": 15
        }
      ],
      "source": [
        "df.shape"
      ]
    },
    {
      "cell_type": "markdown",
      "metadata": {
        "id": "6CX04Foi4Y8K"
      },
      "source": [
        "**<font color='blue'>Q2. Answer </font>**\n",
        "<br>\n",
        "<b>Rows:</b> <br>\n",
        "<b>Attributes:</b>"
      ]
    },
    {
      "cell_type": "markdown",
      "metadata": {
        "id": "HQGhpdxz4Y8L"
      },
      "source": [
        "**Q3. Create Histogram**"
      ]
    },
    {
      "cell_type": "code",
      "execution_count": 16,
      "metadata": {
        "colab": {
          "base_uri": "https://localhost:8080/",
          "height": 317
        },
        "id": "t7iOZUI94Y8M",
        "outputId": "4b7d7fa1-9671-488c-a668-ab5318fa6b63"
      },
      "outputs": [
        {
          "output_type": "execute_result",
          "data": {
            "text/plain": [
              "(array([156.,   0.,   0.,   0.,   0.,  51.,   0.,   0.,   0.,  90.]),\n",
              " array([0. , 0.2, 0.4, 0.6, 0.8, 1. , 1.2, 1.4, 1.6, 1.8, 2. ]),\n",
              " <a list of 10 Patch objects>)"
            ]
          },
          "metadata": {},
          "execution_count": 16
        },
        {
          "output_type": "display_data",
          "data": {
            "text/plain": [
              "<Figure size 432x288 with 1 Axes>"
            ],
            "image/png": "[encoded data removed]"
          },
          "metadata": {
            "needs_background": "light"
          }
        }
      ],
      "source": [
        "# Generate Histogram - It is a graphical representation of a grouped frequency distribution with continuous classes\n",
        "plt.hist(df['INTERNSHIP'])"
      ]
    },
    {
      "cell_type": "markdown",
      "metadata": {
        "id": "rdnlsoo34Y8N"
      },
      "source": [
        "**Q4. Create Pie-Chart to represent the Enrollments for each Internship Program**"
      ]
    },
    {
      "cell_type": "code",
      "execution_count": 18,
      "metadata": {
        "colab": {
          "base_uri": "https://localhost:8080/",
          "height": 404
        },
        "id": "GLmf4RhF4Y8O",
        "outputId": "489e5195-8506-4d88-e734-ff400834b554"
      },
      "outputs": [
        {
          "output_type": "execute_result",
          "data": {
            "text/plain": [
              "([<matplotlib.patches.Wedge at 0x7f3973c15810>,\n",
              "  <matplotlib.patches.Wedge at 0x7f3973b42090>,\n",
              "  <matplotlib.patches.Wedge at 0x7f3973b428d0>],\n",
              " [Text(-0.08717493802411254, 1.0965402547013459, 'Data Science'),\n",
              "  Text(-0.48847327200215157, -0.9855931526443922, 'Cloud Computing(AWS)'),\n",
              "  Text(0.9437817631085101, -0.5650451164498216, 'MEAN Stack Development')],\n",
              " [Text(-0.047549966194970476, 0.598112866200734, '52.53'),\n",
              "  Text(-0.2664399665466281, -0.5375962650787593, '30.30'),\n",
              "  Text(0.5147900526046418, -0.30820642715444807, '17.17')])"
            ]
          },
          "metadata": {},
          "execution_count": 18
        },
        {
          "output_type": "display_data",
          "data": {
            "text/plain": [
              "<Figure size 432x288 with 1 Axes>"
            ],
            "image/png": "[encoded data removed]"
          },
          "metadata": {}
        }
      ],
      "source": [
        "plt.pie(df['INTERNSHIP'].value_counts(),labels=['Data Science','Cloud Computing(AWS)','MEAN Stack Development'],autopct=\"%0.2f\")"
      ]
    },
    {
      "cell_type": "markdown",
      "metadata": {
        "id": "C7A8LeAt4Y8O"
      },
      "source": [
        "**Q5. Find No. of Enrollments for each Internship Program**"
      ]
    },
    {
      "cell_type": "code",
      "execution_count": 19,
      "metadata": {
        "colab": {
          "base_uri": "https://localhost:8080/"
        },
        "id": "400w0irg4Y8P",
        "outputId": "bb3900a3-ea1d-4f98-808b-b24fa44158d9"
      },
      "outputs": [
        {
          "output_type": "execute_result",
          "data": {
            "text/plain": [
              "Data Science                      156\n",
              "Cloud Computing Services (AWS)     90\n",
              "MEAN Stack Web Development         51\n",
              "Name: INTERNSHIP, dtype: int64"
            ]
          },
          "metadata": {},
          "execution_count": 19
        }
      ],
      "source": [
        "df['INTERNSHIP'].value_counts()"
      ]
    },
    {
      "cell_type": "markdown",
      "metadata": {
        "id": "_0b2v59z4Y8P"
      },
      "source": [
        "**Q6. Find Measure of Central Tendency: MEAN, MEDIAN, MODE**"
      ]
    },
    {
      "cell_type": "code",
      "execution_count": 20,
      "metadata": {
        "colab": {
          "base_uri": "https://localhost:8080/"
        },
        "id": "hkTy34-n4Y8Q",
        "outputId": "20b9eaad-70b9-4572-bba8-8e76e006171d"
      },
      "outputs": [
        {
          "output_type": "stream",
          "name": "stderr",
          "text": [
            "/usr/local/lib/python3.7/dist-packages/ipykernel_launcher.py:2: FutureWarning: Dropping of nuisance columns in DataFrame reductions (with 'numeric_only=None') is deprecated; in a future version this will raise TypeError.  Select only valid columns before calling the reduction.\n",
            "  \n"
          ]
        },
        {
          "output_type": "execute_result",
          "data": {
            "text/plain": [
              "StudentNo       1727.585859\n",
              "DEGREE             7.928081\n",
              "INTERMEDIATE      88.662626\n",
              "SSC               88.106734\n",
              "dtype: float64"
            ]
          },
          "metadata": {},
          "execution_count": 20
        }
      ],
      "source": [
        "# MEAN\n",
        "df.mean()"
      ]
    },
    {
      "cell_type": "code",
      "execution_count": 21,
      "metadata": {
        "colab": {
          "base_uri": "https://localhost:8080/"
        },
        "id": "eVl95IXu4Y8Q",
        "outputId": "47588c25-24c2-4be3-8753-449cafc66c20"
      },
      "outputs": [
        {
          "output_type": "stream",
          "name": "stderr",
          "text": [
            "/usr/local/lib/python3.7/dist-packages/ipykernel_launcher.py:2: FutureWarning: Dropping of nuisance columns in DataFrame reductions (with 'numeric_only=None') is deprecated; in a future version this will raise TypeError.  Select only valid columns before calling the reduction.\n",
            "  \n"
          ]
        },
        {
          "output_type": "execute_result",
          "data": {
            "text/plain": [
              "StudentNo       2044.0\n",
              "DEGREE             8.0\n",
              "INTERMEDIATE      90.8\n",
              "SSC               90.0\n",
              "dtype: float64"
            ]
          },
          "metadata": {},
          "execution_count": 21
        }
      ],
      "source": [
        "# MEDIAN\n",
        "df.median()"
      ]
    },
    {
      "cell_type": "code",
      "execution_count": 22,
      "metadata": {
        "colab": {
          "base_uri": "https://localhost:8080/",
          "height": 424
        },
        "id": "B0NPEX4b4Y8R",
        "outputId": "839368cb-d8a2-456e-a920-e9a09bb7bea0"
      },
      "outputs": [
        {
          "output_type": "execute_result",
          "data": {
            "text/plain": [
              "     StudentNo  DEGREE  INTERMEDIATE   SSC    INTERNSHIP\n",
              "0         1001     7.0          95.0  95.0  Data Science\n",
              "1         1002     NaN           NaN   NaN           NaN\n",
              "2         1003     NaN           NaN   NaN           NaN\n",
              "3         1004     NaN           NaN   NaN           NaN\n",
              "4         1005     NaN           NaN   NaN           NaN\n",
              "..         ...     ...           ...   ...           ...\n",
              "292       2188     NaN           NaN   NaN           NaN\n",
              "293       2189     NaN           NaN   NaN           NaN\n",
              "294       2190     NaN           NaN   NaN           NaN\n",
              "295       2191     NaN           NaN   NaN           NaN\n",
              "296       2192     NaN           NaN   NaN           NaN\n",
              "\n",
              "[297 rows x 5 columns]"
            ],
            "text/html": [
              "\n",
              "  <div id=\"df-6c814787-3cfa-42aa-a749-8fbab24e57b3\">\n",
              "    <div class=\"colab-df-container\">\n",
              "      <div>\n",
              "<style scoped>\n",
              "    .dataframe tbody tr th:only-of-type {\n",
              "        vertical-align: middle;\n",
              "    }\n",
              "\n",
              "    .dataframe tbody tr th {\n",
              "        vertical-align: top;\n",
              "    }\n",
              "\n",
              "    .dataframe thead th {\n",
              "        text-align: right;\n",
              "    }\n",
              "</style>\n",
              "<table border=\"1\" class=\"dataframe\">\n",
              "  <thead>\n",
              "    <tr style=\"text-align: right;\">\n",
              "      <th></th>\n",
              "      <th>StudentNo</th>\n",
              "      <th>DEGREE</th>\n",
              "      <th>INTERMEDIATE</th>\n",
              "      <th>SSC</th>\n",
              "      <th>INTERNSHIP</th>\n",
              "    </tr>\n",
              "  </thead>\n",
              "  <tbody>\n",
              "    <tr>\n",
              "      <th>0</th>\n",
              "      <td>1001</td>\n",
              "      <td>7.0</td>\n",
              "      <td>95.0</td>\n",
              "      <td>95.0</td>\n",
              "      <td>Data Science</td>\n",
              "    </tr>\n",
              "    <tr>\n",
              "      <th>1</th>\n",
              "      <td>1002</td>\n",
              "      <td>NaN</td>\n",
              "      <td>NaN</td>\n",
              "      <td>NaN</td>\n",
              "      <td>NaN</td>\n",
              "    </tr>\n",
              "    <tr>\n",
              "      <th>2</th>\n",
              "      <td>1003</td>\n",
              "      <td>NaN</td>\n",
              "      <td>NaN</td>\n",
              "      <td>NaN</td>\n",
              "      <td>NaN</td>\n",
              "    </tr>\n",
              "    <tr>\n",
              "      <th>3</th>\n",
              "      <td>1004</td>\n",
              "      <td>NaN</td>\n",
              "      <td>NaN</td>\n",
              "      <td>NaN</td>\n",
              "      <td>NaN</td>\n",
              "    </tr>\n",
              "    <tr>\n",
              "      <th>4</th>\n",
              "      <td>1005</td>\n",
              "      <td>NaN</td>\n",
              "      <td>NaN</td>\n",
              "      <td>NaN</td>\n",
              "      <td>NaN</td>\n",
              "    </tr>\n",
              "    <tr>\n",
              "      <th>...</th>\n",
              "      <td>...</td>\n",
              "      <td>...</td>\n",
              "      <td>...</td>\n",
              "      <td>...</td>\n",
              "      <td>...</td>\n",
              "    </tr>\n",
              "    <tr>\n",
              "      <th>292</th>\n",
              "      <td>2188</td>\n",
              "      <td>NaN</td>\n",
              "      <td>NaN</td>\n",
              "      <td>NaN</td>\n",
              "      <td>NaN</td>\n",
              "    </tr>\n",
              "    <tr>\n",
              "      <th>293</th>\n",
              "      <td>2189</td>\n",
              "      <td>NaN</td>\n",
              "      <td>NaN</td>\n",
              "      <td>NaN</td>\n",
              "      <td>NaN</td>\n",
              "    </tr>\n",
              "    <tr>\n",
              "      <th>294</th>\n",
              "      <td>2190</td>\n",
              "      <td>NaN</td>\n",
              "      <td>NaN</td>\n",
              "      <td>NaN</td>\n",
              "      <td>NaN</td>\n",
              "    </tr>\n",
              "    <tr>\n",
              "      <th>295</th>\n",
              "      <td>2191</td>\n",
              "      <td>NaN</td>\n",
              "      <td>NaN</td>\n",
              "      <td>NaN</td>\n",
              "      <td>NaN</td>\n",
              "    </tr>\n",
              "    <tr>\n",
              "      <th>296</th>\n",
              "      <td>2192</td>\n",
              "      <td>NaN</td>\n",
              "      <td>NaN</td>\n",
              "      <td>NaN</td>\n",
              "      <td>NaN</td>\n",
              "    </tr>\n",
              "  </tbody>\n",
              "</table>\n",
              "<p>297 rows × 5 columns</p>\n",
              "</div>\n",
              "      <button class=\"colab-df-convert\" onclick=\"convertToInteractive('df-6c814787-3cfa-42aa-a749-8fbab24e57b3')\"\n",
              "              title=\"Convert this dataframe to an interactive table.\"\n",
              "              style=\"display:none;\">\n",
              "        \n",
              "  <svg xmlns=\"http://www.w3.org/2000/svg\" height=\"24px\"viewBox=\"0 0 24 24\"\n",
              "       width=\"24px\">\n",
              "    <path d=\"M0 0h24v24H0V0z\" fill=\"none\"/>\n",
              "    <path d=\"M18.56 5.44l.94 2.06.94-2.06 2.06-.94-2.06-.94-.94-2.06-.94 2.06-2.06.94zm-11 1L8.5 8.5l.94-2.06 2.06-.94-2.06-.94L8.5 2.5l-.94 2.06-2.06.94zm10 10l.94 2.06.94-2.06 2.06-.94-2.06-.94-.94-2.06-.94 2.06-2.06.94z\"/><path d=\"M17.41 7.96l-1.37-1.37c-.4-.4-.92-.59-1.43-.59-.52 0-1.04.2-1.43.59L10.3 9.45l-7.72 7.72c-.78.78-.78 2.05 0 2.83L4 21.41c.39.39.9.59 1.41.59.51 0 1.02-.2 1.41-.59l7.78-7.78 2.81-2.81c.8-.78.8-2.07 0-2.86zM5.41 20L4 18.59l7.72-7.72 1.47 1.35L5.41 20z\"/>\n",
              "  </svg>\n",
              "      </button>\n",
              "      \n",
              "  <style>\n",
              "    .colab-df-container {\n",
              "      display:flex;\n",
              "      flex-wrap:wrap;\n",
              "      gap: 12px;\n",
              "    }\n",
              "\n",
              "    .colab-df-convert {\n",
              "      background-color: #E8F0FE;\n",
              "      border: none;\n",
              "      border-radius: 50%;\n",
              "      cursor: pointer;\n",
              "      display: none;\n",
              "      fill: #1967D2;\n",
              "      height: 32px;\n",
              "      padding: 0 0 0 0;\n",
              "      width: 32px;\n",
              "    }\n",
              "\n",
              "    .colab-df-convert:hover {\n",
              "      background-color: #E2EBFA;\n",
              "      box-shadow: 0px 1px 2px rgba(60, 64, 67, 0.3), 0px 1px 3px 1px rgba(60, 64, 67, 0.15);\n",
              "      fill: #174EA6;\n",
              "    }\n",
              "\n",
              "    [theme=dark] .colab-df-convert {\n",
              "      background-color: #3B4455;\n",
              "      fill: #D2E3FC;\n",
              "    }\n",
              "\n",
              "    [theme=dark] .colab-df-convert:hover {\n",
              "      background-color: #434B5C;\n",
              "      box-shadow: 0px 1px 3px 1px rgba(0, 0, 0, 0.15);\n",
              "      filter: drop-shadow(0px 1px 2px rgba(0, 0, 0, 0.3));\n",
              "      fill: #FFFFFF;\n",
              "    }\n",
              "  </style>\n",
              "\n",
              "      <script>\n",
              "        const buttonEl =\n",
              "          document.querySelector('#df-6c814787-3cfa-42aa-a749-8fbab24e57b3 button.colab-df-convert');\n",
              "        buttonEl.style.display =\n",
              "          google.colab.kernel.accessAllowed ? 'block' : 'none';\n",
              "\n",
              "        async function convertToInteractive(key) {\n",
              "          const element = document.querySelector('#df-6c814787-3cfa-42aa-a749-8fbab24e57b3');\n",
              "          const dataTable =\n",
              "            await google.colab.kernel.invokeFunction('convertToInteractive',\n",
              "                                                     [key], {});\n",
              "          if (!dataTable) return;\n",
              "\n",
              "          const docLinkHtml = 'Like what you see? Visit the ' +\n",
              "            '<a target=\"_blank\" href=https://colab.research.google.com/notebooks/data_table.ipynb>data table notebook</a>'\n",
              "            + ' to learn more about interactive tables.';\n",
              "          element.innerHTML = '';\n",
              "          dataTable['output_type'] = 'display_data';\n",
              "          await google.colab.output.renderOutput(dataTable, element);\n",
              "          const docLink = document.createElement('div');\n",
              "          docLink.innerHTML = docLinkHtml;\n",
              "          element.appendChild(docLink);\n",
              "        }\n",
              "      </script>\n",
              "    </div>\n",
              "  </div>\n",
              "  "
            ]
          },
          "metadata": {},
          "execution_count": 22
        }
      ],
      "source": [
        "# MODE\n",
        "df.mode()"
      ]
    },
    {
      "cell_type": "markdown",
      "metadata": {
        "id": "35rATdeg4Y8R"
      },
      "source": [
        "**Q7. Find Measure of Variance: Minimum, Maximum, Range, Mean Deviation, Standard Deviation, Co-efficient of Variation**"
      ]
    },
    {
      "cell_type": "code",
      "execution_count": 23,
      "metadata": {
        "colab": {
          "base_uri": "https://localhost:8080/"
        },
        "id": "yraqxgEZ4Y8R",
        "outputId": "cc8f09fa-32b1-4628-c914-1c7887a823f8"
      },
      "outputs": [
        {
          "output_type": "execute_result",
          "data": {
            "text/plain": [
              "StudentNo                                 1001\n",
              "DEGREE                                     5.8\n",
              "INTERMEDIATE                              65.0\n",
              "SSC                                       38.4\n",
              "INTERNSHIP      Cloud Computing Services (AWS)\n",
              "dtype: object"
            ]
          },
          "metadata": {},
          "execution_count": 23
        }
      ],
      "source": [
        "# Minimum\n",
        "df.min()"
      ]
    },
    {
      "cell_type": "code",
      "execution_count": 24,
      "metadata": {
        "colab": {
          "base_uri": "https://localhost:8080/"
        },
        "id": "G700x-TV4Y8S",
        "outputId": "b1b289d6-cc8e-45d6-a6cb-5dafed81c2cf"
      },
      "outputs": [
        {
          "output_type": "execute_result",
          "data": {
            "text/plain": [
              "StudentNo                             2192\n",
              "DEGREE                                9.53\n",
              "INTERMEDIATE                          99.4\n",
              "SSC                                   99.0\n",
              "INTERNSHIP      MEAN Stack Web Development\n",
              "dtype: object"
            ]
          },
          "metadata": {},
          "execution_count": 24
        }
      ],
      "source": [
        "# Maximum\n",
        "df.max()\n"
      ]
    },
    {
      "cell_type": "code",
      "execution_count": 27,
      "metadata": {
        "colab": {
          "base_uri": "https://localhost:8080/"
        },
        "id": "hzOGzKoW4Y8S",
        "outputId": "a02f2046-af46-4cf2-f782-e5b0700f3adb"
      },
      "outputs": [
        {
          "output_type": "stream",
          "name": "stdout",
          "text": [
            "range of student_no 1191\n",
            "range of degree 3.7299999999999995\n",
            "range of intermediate 34.400000000000006\n",
            "range of ssc 60.6\n"
          ]
        }
      ],
      "source": [
        "# Range\n",
        "range_student=max(df.StudentNo)-min(df.StudentNo)\n",
        "range_degree=max(df.DEGREE)-min(df.DEGREE)\n",
        "range_intermediate=max(df.INTERMEDIATE)-min(df.INTERMEDIATE)\n",
        "range_ssc=max(df.SSC)-min(df.SSC)\n",
        "print(\"range of student_no\",range_student)\n",
        "print(\"range of degree\",range_degree)\n",
        "print(\"range of intermediate\",range_intermediate)\n",
        "print(\"range of ssc\",range_ssc)"
      ]
    },
    {
      "cell_type": "code",
      "execution_count": 28,
      "metadata": {
        "colab": {
          "base_uri": "https://localhost:8080/"
        },
        "id": "PzzcwY7M4Y8T",
        "outputId": "6a367bf7-79c6-43dd-a899-80f8202577b0"
      },
      "outputs": [
        {
          "output_type": "stream",
          "name": "stderr",
          "text": [
            "/usr/local/lib/python3.7/dist-packages/numpy/core/fromnumeric.py:3579: FutureWarning: Dropping of nuisance columns in DataFrame reductions (with 'numeric_only=None') is deprecated; in a future version this will raise TypeError.  Select only valid columns before calling the reduction.\n",
            "  return std(axis=axis, dtype=dtype, out=out, ddof=ddof, **kwargs)\n"
          ]
        },
        {
          "output_type": "execute_result",
          "data": {
            "text/plain": [
              "StudentNo       501.173552\n",
              "DEGREE            0.784255\n",
              "INTERMEDIATE      7.343339\n",
              "SSC               9.012773\n",
              "dtype: float64"
            ]
          },
          "metadata": {},
          "execution_count": 28
        }
      ],
      "source": [
        "# Standard Deviation\n",
        "import numpy as np\n",
        "np.std(df)"
      ]
    },
    {
      "cell_type": "code",
      "execution_count": 31,
      "metadata": {
        "colab": {
          "base_uri": "https://localhost:8080/"
        },
        "id": "OoJzx4kt4Y8T",
        "outputId": "ba00df60-484b-44e4-9dc2-142433edc40e"
      },
      "outputs": [
        {
          "output_type": "stream",
          "name": "stderr",
          "text": [
            "/usr/local/lib/python3.7/dist-packages/numpy/core/fromnumeric.py:3579: FutureWarning: Dropping of nuisance columns in DataFrame reductions (with 'numeric_only=None') is deprecated; in a future version this will raise TypeError.  Select only valid columns before calling the reduction.\n",
            "  return std(axis=axis, dtype=dtype, out=out, ddof=ddof, **kwargs)\n",
            "/usr/local/lib/python3.7/dist-packages/numpy/core/fromnumeric.py:3438: FutureWarning: Dropping of nuisance columns in DataFrame reductions (with 'numeric_only=None') is deprecated; in a future version this will raise TypeError.  Select only valid columns before calling the reduction.\n",
            "  return mean(axis=axis, dtype=dtype, out=out, **kwargs)\n"
          ]
        },
        {
          "output_type": "execute_result",
          "data": {
            "text/plain": [
              "StudentNo       29.059014\n",
              "DEGREE           9.908812\n",
              "INTERMEDIATE     8.296317\n",
              "SSC             10.246645\n",
              "dtype: float64"
            ]
          },
          "metadata": {},
          "execution_count": 31
        }
      ],
      "source": [
        "# Co-effienct of Variation\n",
        "Coefficientofvarience=lambda x: np.std(x, ddof=1) / np.mean(x) * 100\n",
        "Coefficientofvarience(df)"
      ]
    },
    {
      "cell_type": "markdown",
      "metadata": {
        "id": "wFAcoauG4Y8U"
      },
      "source": [
        "**Q8. Measures of Position: Standard Scores, Inter-quartile Range for Degree, Inter and 10th**"
      ]
    },
    {
      "cell_type": "code",
      "execution_count": 32,
      "metadata": {
        "colab": {
          "base_uri": "https://localhost:8080/"
        },
        "id": "TTQO-aPU4Y8U",
        "outputId": "590c40ff-ac2b-4f52-86f2-f3c5226b8370"
      },
      "outputs": [
        {
          "output_type": "execute_result",
          "data": {
            "text/plain": [
              "StudentNo       1075.0\n",
              "DEGREE             7.4\n",
              "INTERMEDIATE      83.0\n",
              "SSC               85.0\n",
              "Name: 0.25, dtype: float64"
            ]
          },
          "metadata": {},
          "execution_count": 32
        }
      ],
      "source": [
        "# 1st Quartile\n",
        "Q1 = df.quantile(0.25)\n",
        "Q1"
      ]
    },
    {
      "cell_type": "code",
      "execution_count": 33,
      "metadata": {
        "colab": {
          "base_uri": "https://localhost:8080/"
        },
        "id": "A7rkNbRR4Y8U",
        "outputId": "261547ed-546f-4307-f1ef-c1731277eacc"
      },
      "outputs": [
        {
          "output_type": "execute_result",
          "data": {
            "text/plain": [
              "StudentNo       2044.0\n",
              "DEGREE             8.0\n",
              "INTERMEDIATE      90.8\n",
              "SSC               90.0\n",
              "Name: 0.5, dtype: float64"
            ]
          },
          "metadata": {},
          "execution_count": 33
        }
      ],
      "source": [
        "# 2nd Quartile or Median\n",
        "Q2=df.quantile(0.5)\n",
        "Q2"
      ]
    },
    {
      "cell_type": "code",
      "execution_count": 41,
      "metadata": {
        "colab": {
          "base_uri": "https://localhost:8080/"
        },
        "id": "gY6fVxdo4Y8V",
        "outputId": "02603832-9bdd-45b5-bef2-566aa874a64c"
      },
      "outputs": [
        {
          "output_type": "execute_result",
          "data": {
            "text/plain": [
              "StudentNo       2118.00\n",
              "DEGREE             8.56\n",
              "INTERMEDIATE      94.60\n",
              "SSC               95.00\n",
              "Name: 0.75, dtype: float64"
            ]
          },
          "metadata": {},
          "execution_count": 41
        }
      ],
      "source": [
        "# 3rd Quartile\n",
        "Q3=df.quantile(0.75)\n",
        "Q3"
      ]
    },
    {
      "cell_type": "code",
      "execution_count": 42,
      "metadata": {
        "colab": {
          "base_uri": "https://localhost:8080/"
        },
        "id": "r9VE7V3f4Y8V",
        "outputId": "ae63db3f-afc8-48e5-b0fe-b0b8b7ff2607"
      },
      "outputs": [
        {
          "output_type": "execute_result",
          "data": {
            "text/plain": [
              "StudentNo       1043.00\n",
              "DEGREE             1.16\n",
              "INTERMEDIATE      11.60\n",
              "SSC               10.00\n",
              "dtype: float64"
            ]
          },
          "metadata": {},
          "execution_count": 42
        }
      ],
      "source": [
        "# Inter-Quartile = Q3 - Q1\n",
        "IQR=Q3-Q1\n",
        "IQR"
      ]
    },
    {
      "cell_type": "markdown",
      "metadata": {
        "id": "nZRuZAEu4Y8V"
      },
      "source": [
        "**Q9. Create Box Plot and Identify Outliers**"
      ]
    },
    {
      "cell_type": "code",
      "execution_count": 37,
      "metadata": {
        "colab": {
          "base_uri": "https://localhost:8080/",
          "height": 404
        },
        "id": "JljfubGo4Y8W",
        "outputId": "443f1678-17fa-4815-ca03-24204ef17813"
      },
      "outputs": [
        {
          "output_type": "execute_result",
          "data": {
            "text/plain": [
              "{'whiskers': [<matplotlib.lines.Line2D at 0x7f397360e990>,\n",
              "  <matplotlib.lines.Line2D at 0x7f397360eed0>],\n",
              " 'caps': [<matplotlib.lines.Line2D at 0x7f3973614450>,\n",
              "  <matplotlib.lines.Line2D at 0x7f3973614990>],\n",
              " 'boxes': [<matplotlib.lines.Line2D at 0x7f397360e450>],\n",
              " 'medians': [<matplotlib.lines.Line2D at 0x7f3973614ed0>],\n",
              " 'fliers': [<matplotlib.lines.Line2D at 0x7f397361a450>],\n",
              " 'means': []}"
            ]
          },
          "metadata": {},
          "execution_count": 37
        },
        {
          "output_type": "display_data",
          "data": {
            "text/plain": [
              "<Figure size 432x288 with 1 Axes>"
            ],
            "image/png": "[encoded data removed]"
          },
          "metadata": {
            "needs_background": "light"
          }
        }
      ],
      "source": [
        "plt.boxplot(df.StudentNo)\n",
        "plt.boxplot(df.DEGREE)\n",
        "plt.boxplot(df.INTERMEDIATE)\n",
        "plt.boxplot(df.SSC)"
      ]
    },
    {
      "cell_type": "markdown",
      "metadata": {
        "id": "TSJuLMY74Y8W"
      },
      "source": [
        "**Q10. Identify No. of Students with 90% percentile for Degree, Inter and 10th Class**"
      ]
    },
    {
      "cell_type": "code",
      "execution_count": null,
      "metadata": {
        "id": "9Bi6m23R4Y8W"
      },
      "outputs": [],
      "source": [
        "# 90th Percentile or Quantile"
      ]
    },
    {
      "cell_type": "code",
      "execution_count": 39,
      "metadata": {
        "colab": {
          "base_uri": "https://localhost:8080/"
        },
        "id": "FV7ixhwa4Y8X",
        "outputId": "c81415ef-85f9-49f2-ebe8-febd86d40468"
      },
      "outputs": [
        {
          "output_type": "execute_result",
          "data": {
            "text/plain": [
              "StudentNo       2162.4\n",
              "DEGREE             8.9\n",
              "INTERMEDIATE      96.5\n",
              "SSC               97.0\n",
              "Name: 0.9, dtype: float64"
            ]
          },
          "metadata": {},
          "execution_count": 39
        }
      ],
      "source": [
        "df.quantile(0.9)"
      ]
    },
    {
      "cell_type": "code",
      "source": [],
      "metadata": {
        "id": "kr1ZaUUwBl26"
      },
      "execution_count": null,
      "outputs": []
    }
  ],
  "metadata": {
    "colab": {
      "collapsed_sections": [],
      "provenance": [],
      "include_colab_link": true
    },
    "kernelspec": {
      "display_name": "conda_python3",
      "language": "python",
      "name": "conda_python3"
    },
    "language_info": {
      "codemirror_mode": {
        "name": "ipython",
        "version": 3
      },
      "file_extension": ".py",
      "mimetype": "text/x-python",
      "name": "python",
      "nbconvert_exporter": "python",
      "pygments_lexer": "ipython3",
      "version": "3.8.12"
    }
  },
  "nbformat": 4,
  "nbformat_minor": 0
}